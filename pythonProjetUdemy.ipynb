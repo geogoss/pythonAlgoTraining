{
 "cells": [
  {
   "cell_type": "markdown",
   "id": "58148b34-ac84-4be1-b62f-13b1779f550d",
   "metadata": {},
   "source": [
    "1) Projet calculatrice avec gestion des erreurs. /n\n",
    "Dans ce projet, vous devez créer une calculatrice en ligne de commande qui demande à l'utilisateur de saisir deux nombres et qui affiche ensuite le résultat de l'addition de ces deux nombres. Vous devez également gérer le cas de figure dans lequel l'utilisateur ne rentre pas de données valides."
   ]
  },
  {
   "cell_type": "code",
   "execution_count": 6,
   "id": "2507440a-5b17-4cd0-a5c9-ba8549311847",
   "metadata": {},
   "outputs": [
    {
     "name": "stdin",
     "output_type": "stream",
     "text": [
      "Donnez le premier nombre 45\n",
      "Donnez le deuxième nombre 65\n"
     ]
    },
    {
     "name": "stdout",
     "output_type": "stream",
     "text": [
      "45 + 65 = 110\n"
     ]
    }
   ],
   "source": [
    "a = b = \"\"\n",
    "\n",
    "while not (a.isdigit() and b.isdigit()):\n",
    "    a = input(\"Donnez le premier nombre\")\n",
    "    b = input(\"Donnez le deuxième nombre\")\n",
    "    \n",
    "    if not (a.isdigit() and b.isdigit()):\n",
    "        print(\"Veuillez entrer deux nombres valides\")\n",
    "        \n",
    "print(f\"{a} + {b} = {int(a) + int(b)}\")"
   ]
  },
  {
   "cell_type": "code",
   "execution_count": null,
   "id": "8024a7bb-ba33-4914-8f79-07d2484d2f0d",
   "metadata": {},
   "outputs": [],
   "source": []
  }
 ],
 "metadata": {
  "kernelspec": {
   "display_name": "Python 3 (ipykernel)",
   "language": "python",
   "name": "python3"
  },
  "language_info": {
   "codemirror_mode": {
    "name": "ipython",
    "version": 3
   },
   "file_extension": ".py",
   "mimetype": "text/x-python",
   "name": "python",
   "nbconvert_exporter": "python",
   "pygments_lexer": "ipython3",
   "version": "3.9.7"
  }
 },
 "nbformat": 4,
 "nbformat_minor": 5
}
