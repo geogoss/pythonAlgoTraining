{
 "cells": [
  {
   "cell_type": "markdown",
   "id": "9cd09a6e-64e9-4d84-8ca1-a1ee07102650",
   "metadata": {},
   "source": [
    "1) Triplet de pythagore"
   ]
  },
  {
   "cell_type": "code",
   "execution_count": 112,
   "id": "d273b072-5a8e-4ef9-9036-3817525e1f66",
   "metadata": {},
   "outputs": [
    {
     "name": "stdin",
     "output_type": "stream",
     "text": [
      "Veuillez rentrer un nombre positif pour a! 3\n",
      "Veuillez rentrer un nombre positif pour b! 4\n",
      "Veuillez rentrer un nombre positif pour c! 5\n"
     ]
    },
    {
     "name": "stdout",
     "output_type": "stream",
     "text": [
      "Ces 3 nombres forment un triplet de pythagore\n"
     ]
    }
   ],
   "source": [
    "a = eval(input(\"Veuillez rentrer un nombre positif pour a!\"))\n",
    "b = eval(input(\"Veuillez rentrer un nombre positif pour b!\"))\n",
    "c = eval(input(\"Veuillez rentrer un nombre positif pour c!\"))\n",
    "def pythagorean_triple(a, b, c):\n",
    "    while a<=0 or b<=0 or c<=0:\n",
    "         a = eval(input(\"Veuillez rentrer un nombre positif pour a!\"))\n",
    "         b = eval(input(\"Veuillez rentrer un nombre positif pour b!\"))\n",
    "         c = eval(input(\"Veuillez rentrer un nombre positif pour c!\"))  \n",
    "    if a**2 + b**2 == c**2:\n",
    "        print(\"Ces 3 nombres forment un triplet de pythagore\")\n",
    "    else:\n",
    "        print(\"Loupé ce n'est pas un triplet\")\n",
    "            \n",
    "\n",
    "pythagorean_triple(a,b,c)"
   ]
  },
  {
   "cell_type": "markdown",
   "id": "c3ffd9c3-3997-4ce1-a0b8-6a06bdb853ce",
   "metadata": {},
   "source": [
    "2) Given n, take the sum of the digits of n. If that value has more than one digit, continue reducing in this way until a single-digit number is produced. The input will be a non-negative integer."
   ]
  },
  {
   "cell_type": "code",
   "execution_count": 113,
   "id": "805c6db0-2457-40be-b42c-5edc51748206",
   "metadata": {},
   "outputs": [
    {
     "name": "stdin",
     "output_type": "stream",
     "text": [
      "Donner le nombre à réduire : 254\n"
     ]
    }
   ],
   "source": [
    "n = eval(input(\"Donner le nombre à réduire :\"))\n",
    "def reduc(n):\n",
    "    pass"
   ]
  },
  {
   "cell_type": "code",
   "execution_count": 114,
   "id": "c27cb060-7c14-4d30-b595-233560a31dc6",
   "metadata": {},
   "outputs": [
    {
     "name": "stdin",
     "output_type": "stream",
     "text": [
      "Donner le nombre à réduire : 547\n"
     ]
    },
    {
     "data": {
      "text/plain": [
       "[5, 4, 7]"
      ]
     },
     "execution_count": 114,
     "metadata": {},
     "output_type": "execute_result"
    }
   ],
   "source": [
    "n = eval(input(\"Donner le nombre à réduire :\"))\n",
    "def convert(n):\n",
    "    L=list(str(n))\n",
    "    for k in range(len(L)):\n",
    "        L[k]=int(L[k])\n",
    "    return L\n",
    "convert(n)"
   ]
  },
  {
   "cell_type": "code",
   "execution_count": 38,
   "id": "49e084aa-1c81-49da-9de3-f457c73b11bb",
   "metadata": {},
   "outputs": [
    {
     "name": "stdin",
     "output_type": "stream",
     "text": [
      "Donner le nombre à réduire : 4587\n"
     ]
    },
    {
     "name": "stdout",
     "output_type": "stream",
     "text": [
      "[4, 5, 8, 7]\n",
      "24\n"
     ]
    }
   ],
   "source": [
    "n = eval(input(\"Donner le nombre à réduire :\"))\n",
    "def conv(n):\n",
    "    n=str(n)\n",
    "    liste = []\n",
    "    add = 0\n",
    "    for i in n:\n",
    "           liste.append(int(i))\n",
    "           add = add + int(i)\n",
    "    print(liste)\n",
    "    print(add)\n",
    "conv(n)"
   ]
  },
  {
   "cell_type": "code",
   "execution_count": null,
   "id": "2bf02cc7-7dbe-42e9-9749-e3c654169ec1",
   "metadata": {},
   "outputs": [],
   "source": [
    "# On peut aussi utiliser la formule sum() sur une liste d'integer               "
   ]
  },
  {
   "cell_type": "code",
   "execution_count": 39,
   "id": "49cc93b9-36fa-48cf-8312-061eec53fa90",
   "metadata": {},
   "outputs": [
    {
     "name": "stdin",
     "output_type": "stream",
     "text": [
      "Donner le nombre à réduire : 478\n"
     ]
    },
    {
     "name": "stdout",
     "output_type": "stream",
     "text": [
      "[4, 7, 8]\n",
      "19\n"
     ]
    }
   ],
   "source": [
    "n = eval(input(\"Donner le nombre à réduire :\"))\n",
    "def conv(n):\n",
    "    n=str(n)\n",
    "    liste = []\n",
    "    for i in n:\n",
    "           liste.append(int(i))\n",
    "    print(liste)\n",
    "    print(sum(liste))\n",
    "conv(n)"
   ]
  },
  {
   "cell_type": "code",
   "execution_count": null,
   "id": "1bd5fbea-bb76-4f11-9fee-88807d506e1c",
   "metadata": {},
   "outputs": [],
   "source": []
  },
  {
   "cell_type": "markdown",
   "id": "6eddc55d-7f48-4072-bb64-a8f9c08f369c",
   "metadata": {},
   "source": [
    "3) Compare Power"
   ]
  },
  {
   "cell_type": "markdown",
   "id": "f4304ef0-7917-45a6-81c8-9a4c086dbcaa",
   "metadata": {},
   "source": [
    "DESCRIPTION:\n",
    "You certainly can tell which is the larger number between 2exp10 and 2exp15.\n",
    "\n",
    "But what about, say, 2exp10 and 3exp10? You know this one too.\n",
    "\n",
    "Things tend to get a bit more complicated with both different bases and exponents: which is larger between 3exp9 and 5exp6?\n",
    "\n",
    "Well, by now you have surely guessed that you have to build a function to compare powers, returning -1 if the first member is larger, 0 if they are equal, 1 otherwise; powers to compare will be provided in the [base, exponent] format:"
   ]
  },
  {
   "cell_type": "code",
   "execution_count": 115,
   "id": "4ea9bc43-8260-4a5d-b8c7-4e46d2595333",
   "metadata": {},
   "outputs": [
    {
     "name": "stdin",
     "output_type": "stream",
     "text": [
      "Enrtez le 1er nombre : 4\n",
      "Entrez l'exposant du 1er nombre: 4\n",
      "Enrtez le 2eme nombre : 5\n",
      "Entrez l'exposant du 2eme nombre: 2\n"
     ]
    },
    {
     "data": {
      "text/plain": [
       "1"
      ]
     },
     "execution_count": 115,
     "metadata": {},
     "output_type": "execute_result"
    }
   ],
   "source": [
    "a = eval(input(\"Enrtez le 1er nombre :\"))\n",
    "b = eval(input(\"Entrez l'exposant du 1er nombre:\"))\n",
    "c = eval(input(\"Enrtez le 2eme nombre :\"))\n",
    "d = eval(input(\"Entrez l'exposant du 2eme nombre:\"))\n",
    "def compare (a, b, c, d):\n",
    "    x = a**b\n",
    "    y = c**d\n",
    "    if x > y:\n",
    "        return 1\n",
    "    elif x < y:\n",
    "        return -1\n",
    "    else:\n",
    "        return 0\n",
    "compare(a, b, c, d)"
   ]
  },
  {
   "cell_type": "code",
   "execution_count": 44,
   "id": "068bcbea-0067-44d0-a54b-6aeef8b670bd",
   "metadata": {},
   "outputs": [],
   "source": [
    "# Ca marche mais il ne faut pas faire d'input car ca bug sur codewar"
   ]
  },
  {
   "cell_type": "code",
   "execution_count": 116,
   "id": "892ad2b7-64f1-4512-8f25-1c5e5d9f167a",
   "metadata": {},
   "outputs": [
    {
     "name": "stdout",
     "output_type": "stream",
     "text": [
      "[[2, 3], [2, 2], 1]\n"
     ]
    }
   ],
   "source": [
    "def compare (a, b, c, d):\n",
    "    x = [a, b]\n",
    "    y = [c, d]\n",
    "    z = [[], []]\n",
    "    if x[0]**x[1] > y[0]**y[1]:\n",
    "         print([x, y, 1])\n",
    "    elif x[0]**x[1] < y[0]**y[1]:\n",
    "        print([x, y, -1])\n",
    "    else:\n",
    "        print([x, y, 0])\n",
    "compare(2, 3, 2, 2)"
   ]
  },
  {
   "cell_type": "code",
   "execution_count": null,
   "id": "28753edc-2c71-4132-a8a1-e7858da56dcf",
   "metadata": {},
   "outputs": [],
   "source": []
  },
  {
   "cell_type": "markdown",
   "id": "946ae099-1bfa-42fa-8e07-64a5c2a5918e",
   "metadata": {},
   "source": [
    "4) Take a ten minutes walk"
   ]
  },
  {
   "cell_type": "markdown",
   "id": "cc8cd710-2113-4f02-b673-5920392215d3",
   "metadata": {},
   "source": [
    "You live in the city of Cartesia where all roads are laid out in a perfect grid. You arrived ten minutes too early to an appointment, so you decided to take the opportunity to go for a short walk. The city provides its citizens with a Walk Generating App on their phones -- everytime you press the button it sends you an array of one-letter strings representing directions to walk (eg. ['n', 's', 'w', 'e']). You always walk only a single block for each letter (direction) and you know it takes you one minute to traverse one city block, so create a function that will return true if the walk the app gives you will take you exactly ten minutes (you don't want to be early or late!) and will, of course, return you to your starting point. Return false otherwise.\n",
    "\n",
    "Note: you will always receive a valid array containing a random assortment of direction letters ('n', 's', 'e', or 'w' only). It will never give you an empty array (that's not a walk, that's standing still!)."
   ]
  },
  {
   "cell_type": "code",
   "execution_count": 210,
   "id": "d54d3557-d4ef-4ca1-86f8-76e6cb4ab12b",
   "metadata": {},
   "outputs": [
    {
     "name": "stdout",
     "output_type": "stream",
     "text": [
      "['e', 'n', 'w', 'n', 's', 'n', 's', 's', 'w', 'e']\n",
      "Ce trajet est parfait au niveau timing, il fait bien  10 min\n",
      "Balade parfaite pour se dégourdir les jambes avant le rdv\n"
     ]
    }
   ],
   "source": [
    "import random\n",
    "def number():\n",
    "    y = random.randrange(8,13)\n",
    "    return y\n",
    "\n",
    "def valid_walk():\n",
    "    x = random.randrange(1,5)\n",
    "    return x\n",
    "i=0\n",
    "a = []\n",
    "for i in range(number()):\n",
    "    z = valid_walk()\n",
    "    if z==1:\n",
    "        a.append(\"s\")\n",
    "    elif z==2:\n",
    "        a.append(\"w\")\n",
    "    elif z==3:\n",
    "        a.append(\"e\")\n",
    "    else:\n",
    "        a.append(\"n\")\n",
    "    i = i+1\n",
    "print(a)\n",
    "if len(a)>10:\n",
    "    print(\"Ce trajet ne vous permettra pas d'être à l'heure. Il fait \", len(a), \"min\")\n",
    "elif len(a)<10:\n",
    "    print(\"Ce trajet n'est pas optimal, il n'y a pas 10 min. Il fait \", len(a), \"min\")\n",
    "else:\n",
    "    print(\"Ce trajet est parfait au niveau timing, il fait bien \", len(a), \"min\")\n",
    "    v = 0\n",
    "    h = 0\n",
    "    for i in a:\n",
    "        if i == \"n\":\n",
    "            v = v+1\n",
    "        elif i == \"s\":\n",
    "            v = v-1\n",
    "        elif i == \"w\":\n",
    "            h = h-1\n",
    "        else:\n",
    "            h = h+1\n",
    "    \n",
    "    if v != 0 or h != 0:\n",
    "        print(\"Mais la balade ne te ramène pas au point de départ, tu risques d'être en retard\")\n",
    "    else:\n",
    "        print(\"Balade parfaite pour se dégourdir les jambes avant le rdv\")\n"
   ]
  },
  {
   "cell_type": "markdown",
   "id": "064fa801-c0c7-41ac-8665-f77757899a37",
   "metadata": {},
   "source": [
    "Adaptation moins sympa que la version au dessus pour codewar -> il veut que ça retourne true or false"
   ]
  },
  {
   "cell_type": "code",
   "execution_count": 250,
   "id": "23bc221d-567c-4b02-afd3-7d64844bba16",
   "metadata": {},
   "outputs": [
    {
     "name": "stdout",
     "output_type": "stream",
     "text": [
      "['n', 'e', 'n', 's', 'w', 'e', 'w', 's', 'w', 'e']\n"
     ]
    },
    {
     "data": {
      "text/plain": [
       "True"
      ]
     },
     "execution_count": 250,
     "metadata": {},
     "output_type": "execute_result"
    }
   ],
   "source": [
    "import random\n",
    "def number():\n",
    "    y = random.randrange(8,13)\n",
    "    return y\n",
    "\n",
    "def valid_walk():\n",
    "    x = random.randrange(1,5)\n",
    "    return x\n",
    "i=0\n",
    "a = []\n",
    "for i in range(number()):\n",
    "    z = valid_walk()\n",
    "    if z==1:\n",
    "        a.append(\"s\")\n",
    "    elif z==2:\n",
    "        a.append(\"w\")\n",
    "    elif z==3:\n",
    "        a.append(\"e\")\n",
    "    else:\n",
    "        a.append(\"n\")\n",
    "    i = i+1\n",
    "print(a)\n",
    "\n",
    "v = 0\n",
    "h = 0\n",
    "for i in a:\n",
    "    if i == \"n\":\n",
    "        v = v+1\n",
    "    elif i == \"s\":\n",
    "        v = v-1\n",
    "    elif i == \"w\":\n",
    "        h = h-1\n",
    "    else:\n",
    "        h = h+1\n",
    "\n",
    "def test():\n",
    "    if len(a) == 10:\n",
    "        if v == 0 & h == 0:\n",
    "            return True\n",
    "        else:\n",
    "            return False\n",
    "    else:\n",
    "        return False\n",
    "test()"
   ]
  },
  {
   "cell_type": "code",
   "execution_count": null,
   "id": "4e8bbc14-f4ad-4a7e-8a4e-fe68d1e50e0f",
   "metadata": {},
   "outputs": [],
   "source": []
  },
  {
   "cell_type": "markdown",
   "id": "ed5bdc5d-c3aa-4fbe-871d-c4f0950bb06d",
   "metadata": {},
   "source": [
    "5) Who likes it?"
   ]
  },
  {
   "cell_type": "markdown",
   "id": "26dc45e0-be01-4e44-8466-dc40b6b4b482",
   "metadata": {},
   "source": [
    "You probably know the \"like\" system from Facebook and other pages. People can \"like\" blog posts, pictures or other items. We want to create the text that should be displayed next to such an item.\n",
    "\n",
    "Implement the function which takes an array containing the names of people that like an item. It must return the display text as shown in the examples:\n",
    "[]                                -->  \"no one likes this\"\n",
    "[\"Peter\"]                         -->  \"Peter likes this\"\n",
    "[\"Jacob\", \"Alex\"]                 -->  \"Jacob and Alex like this\"\n",
    "[\"Max\", \"John\", \"Mark\"]           -->  \"Max, John and Mark like this\"\n",
    "[\"Alex\", \"Jacob\", \"Mark\", \"Max\"]  -->  \"Alex, Jacob and 2 others like this\""
   ]
  },
  {
   "cell_type": "code",
   "execution_count": 117,
   "id": "f783b60e-d93e-4b74-8e90-b74247929229",
   "metadata": {},
   "outputs": [
    {
     "name": "stdout",
     "output_type": "stream",
     "text": [
      "[]\n"
     ]
    }
   ],
   "source": [
    "tab = []\n",
    "def like(names):\n",
    "    a = names\n",
    "    tab.extend(names)\n",
    "    if len(tab) == 1:\n",
    "        print(tab[0], \" likes this\")\n",
    "    elif len(tab) == 2:\n",
    "        print(tab[0], \" et \", tab[1], \" like this\")\n",
    "    elif len(tab) == 3:\n",
    "        print(tab[0], \" et \", tab[1], \" et \", tab[2], \" like this\")\n",
    "    else:\n",
    "        print(tab[0], \" et \", tab[1], \" et \", len(tab)-2, \" others, like this\")\n",
    "print(tab)\n",
    "        "
   ]
  },
  {
   "cell_type": "code",
   "execution_count": 118,
   "id": "836815fe-c273-4c1c-897f-82f5c15ac784",
   "metadata": {},
   "outputs": [
    {
     "name": "stdout",
     "output_type": "stream",
     "text": [
      "Tom  et  Geof  et  Billy  like this\n"
     ]
    }
   ],
   "source": [
    "like([\"Tom\", \"Geof\", \"Billy\"])"
   ]
  },
  {
   "cell_type": "code",
   "execution_count": 119,
   "id": "3bfa4842-bab4-4f52-9bb9-2f2db35ef8dc",
   "metadata": {},
   "outputs": [
    {
     "name": "stdout",
     "output_type": "stream",
     "text": [
      "Tom  et  Geof  et  2  others, like this\n"
     ]
    }
   ],
   "source": [
    "like([\"Geoffrey\"])"
   ]
  },
  {
   "cell_type": "code",
   "execution_count": 120,
   "id": "de590fbd-679a-40b2-8262-b2333f6838d6",
   "metadata": {},
   "outputs": [
    {
     "name": "stdout",
     "output_type": "stream",
     "text": [
      "Tom  et  Geof  et  3  others, like this\n"
     ]
    }
   ],
   "source": [
    "like([\"Virgin\"])"
   ]
  },
  {
   "cell_type": "code",
   "execution_count": 121,
   "id": "144217ba-8d82-416f-995f-3ea685f5da0b",
   "metadata": {},
   "outputs": [
    {
     "name": "stdout",
     "output_type": "stream",
     "text": [
      "Tom  et  Geof  et  4  others, like this\n"
     ]
    }
   ],
   "source": [
    "like([\"Katsumoto\"])"
   ]
  },
  {
   "cell_type": "code",
   "execution_count": 122,
   "id": "67d6d55b-fbb3-4d26-b1fe-50ce887059a4",
   "metadata": {},
   "outputs": [
    {
     "name": "stdout",
     "output_type": "stream",
     "text": [
      "Tom  et  Geof  et  5  others, like this\n"
     ]
    }
   ],
   "source": [
    "like([\"Friederiech\"])"
   ]
  },
  {
   "cell_type": "code",
   "execution_count": 123,
   "id": "957ac64c-6c6f-4f8a-b015-8a484974097c",
   "metadata": {},
   "outputs": [
    {
     "name": "stdout",
     "output_type": "stream",
     "text": [
      "['Tom', 'Geof', 'Billy', 'Geoffrey', 'Virgin', 'Katsumoto', 'Friederiech']\n"
     ]
    }
   ],
   "source": [
    "print(tab)"
   ]
  },
  {
   "cell_type": "code",
   "execution_count": null,
   "id": "70686785-c2bf-4e7b-a7d2-6b917f48893b",
   "metadata": {},
   "outputs": [],
   "source": []
  },
  {
   "cell_type": "code",
   "execution_count": null,
   "id": "9dbd4486-b8e4-44a5-9989-ef0c9e069f50",
   "metadata": {},
   "outputs": [],
   "source": []
  },
  {
   "cell_type": "markdown",
   "id": "65bb109d-7763-4ed5-b314-08f6c2b5e2c4",
   "metadata": {},
   "source": [
    "6) Trop pratique pour sélectionner des éléments pairs"
   ]
  },
  {
   "cell_type": "code",
   "execution_count": 124,
   "id": "cf04d6ae-610b-48dc-92a9-9d7c2f414eca",
   "metadata": {},
   "outputs": [
    {
     "name": "stdout",
     "output_type": "stream",
     "text": [
      "[0, 2, 4]\n",
      "[0, 1, 2, 3, 4, 1, 2, 3, 4, 5, 2, 3, 4, 5, 6, 3, 4, 5, 6, 7, 4, 5, 6, 7, 8]\n"
     ]
    }
   ],
   "source": [
    "li = list(range(0, 5))                # liste des entiers de 0 à 5 exclu\n",
    "y = [i for i in li if i % 2 == 0]    # sélection des éléments pairs\n",
    "print(y)\n",
    "# construit tous les nombres i+j possibles\n",
    "z = [i + j for i in li for j in li]\n",
    "print(z)"
   ]
  },
  {
   "cell_type": "code",
   "execution_count": null,
   "id": "86b80c16-0988-4e16-b4c7-909f4367d3a3",
   "metadata": {},
   "outputs": [],
   "source": []
  },
  {
   "cell_type": "markdown",
   "id": "c9335ae8-42ae-442c-83bc-9e7e2987e346",
   "metadata": {},
   "source": [
    "7) Le lendemain d'une date"
   ]
  },
  {
   "cell_type": "code",
   "execution_count": 125,
   "id": "09bca09c-194f-49d0-ab01-d6e2aea0b30c",
   "metadata": {},
   "outputs": [],
   "source": [
    "# D'abord faire un algo pour vérifier si une année est bissextile"
   ]
  },
  {
   "cell_type": "markdown",
   "id": "c5a43eff-22de-4784-b525-3fb59a7838e4",
   "metadata": {},
   "source": [
    "Depuis l'ajustement du calendrier grégorien, l'année est bissextile (comportant 366 jours)1 seulement si elle respecte l’un des deux critères suivants :\n",
    "\n",
    "C1 : l'année est divisiblea par 4 sans être divisible par 100 (cas des années qui ne sont pas des multiples de 100) ;\n",
    "C2 : l'année est divisible par 400 (cas des années multiples de 100).\n",
    "Autrement dit : pour être bissextile, une année doit dans tous les cas être divisible par 4 ; mais si c’est une année de centenaire (comme 1800, 1900, etc.), elle doit en complément être divisible par 400.\n",
    "\n",
    "Si une année ne respecte ni le critère C1 ni le critère C2, l'année n'est pas bissextile : elle a ainsi la durée habituelle de 365 jours ; on dit alors que c’est une année commune."
   ]
  },
  {
   "cell_type": "code",
   "execution_count": 126,
   "id": "0c0d01d1-d7b1-4ea1-9eea-70ac39e9d686",
   "metadata": {},
   "outputs": [
    {
     "data": {
      "text/plain": [
       "True"
      ]
     },
     "execution_count": 126,
     "metadata": {},
     "output_type": "execute_result"
    }
   ],
   "source": [
    "\n",
    "def bissex (a):\n",
    "    #a = eval(input(\"Choisissez une année : \"))\n",
    "    if a%4 == 0 and a%100 != 0 or a%400 == 0:\n",
    "        #print(\"C'est une année bissextile :-)\")\n",
    "        return True\n",
    "    else:\n",
    "        #print(\"Ce n'est pas une année bissextile :-( \")\n",
    "        return False\n",
    "bissex(2004)"
   ]
  },
  {
   "cell_type": "code",
   "execution_count": 127,
   "id": "a3f43ed5-5dd8-49a8-b8c4-da7907d7f9d9",
   "metadata": {},
   "outputs": [],
   "source": [
    "# Maintenant -> faire la fonction pour donner le jour d'après"
   ]
  },
  {
   "cell_type": "code",
   "execution_count": 129,
   "id": "d95d9342-8ada-478a-9802-de4c6cbbd743",
   "metadata": {},
   "outputs": [
    {
     "name": "stdin",
     "output_type": "stream",
     "text": [
      "Quelle année ? 2022\n",
      "Quel mois ? 6\n",
      "Quel jour ? 29\n"
     ]
    },
    {
     "name": "stdout",
     "output_type": "stream",
     "text": [
      "Demain nous serons le  30 / 6 / 2022\n"
     ]
    }
   ],
   "source": [
    "année = eval(input(\"Quelle année ?\"))\n",
    "mois = eval(input(\"Quel mois ?\"))\n",
    "jour = eval(input(\"Quel jour ?\"))\n",
    "if mois == 1 or mois == 3 or mois == 5 or mois == 7 or mois == 8 or mois == 10:\n",
    "    if jour == 31:\n",
    "        jour = 1\n",
    "        mois += 1\n",
    "    else:\n",
    "        jour += 1\n",
    "elif mois == 4 or mois == 6 or mois == 9 or mois == 11:\n",
    "    if jour == 30:\n",
    "        jour = 1\n",
    "        mois +=1\n",
    "    else:\n",
    "        jour +=1\n",
    "elif mois ==2:\n",
    "    if bissex(année):\n",
    "        if jour == 29:\n",
    "            jour = 1\n",
    "            mois += 1\n",
    "        else:\n",
    "            jour += 1\n",
    "    else:\n",
    "        if jour == 28:\n",
    "            jour = 1\n",
    "            mois += 1\n",
    "        else:\n",
    "            jour += 1\n",
    "elif mois == 12:\n",
    "    if jour == 31:\n",
    "        jour = 1\n",
    "        mois = 1\n",
    "        année += 1\n",
    "print(\"Demain nous serons le \", jour, \"/\", mois, \"/\", année)\n"
   ]
  },
  {
   "cell_type": "code",
   "execution_count": null,
   "id": "6aa6a8ef-2f6b-4ef9-88e3-106e91cb3124",
   "metadata": {},
   "outputs": [],
   "source": []
  },
  {
   "cell_type": "markdown",
   "id": "f1a28fe5-dd2d-4b21-bc34-b8429ba8d202",
   "metadata": {},
   "source": [
    "8) comme avant mais avec heures/minutes/secondes => combien de secondes en plus"
   ]
  },
  {
   "cell_type": "code",
   "execution_count": 130,
   "id": "5ffc58d0-0e25-4543-a673-a8c1d56430e8",
   "metadata": {},
   "outputs": [
    {
     "name": "stdin",
     "output_type": "stream",
     "text": [
      "Combien de sec en plus ? 2547\n"
     ]
    },
    {
     "name": "stdout",
     "output_type": "stream",
     "text": [
      "0 d  17 : 20 : 52\n"
     ]
    }
   ],
   "source": [
    "import math\n",
    "heures = 16\n",
    "min = 38\n",
    "sec = 25\n",
    "t = int(input(\"Combien de sec en plus ?\"))\n",
    "sec = sec + t\n",
    "min = min + (sec/60)\n",
    "sec = sec%60\n",
    "heures = heures + (min/60)\n",
    "min = min%60\n",
    "jour = heures/24\n",
    "heures = heures%24\n",
    "print(math.floor(jour), \"d \", math.floor(heures), \":\", math.floor(min), \":\", math.floor(sec))"
   ]
  },
  {
   "cell_type": "code",
   "execution_count": 131,
   "id": "93f5387c-232d-4eba-8b2a-82a62f54dd9c",
   "metadata": {},
   "outputs": [],
   "source": [
    "# Optimiser le code pour qu'il soit plus efficace en terme de temps d'exécution et de mémoire\n",
    "# en terme de ligne il sera plus long mais il sera plus efficace"
   ]
  },
  {
   "cell_type": "code",
   "execution_count": 132,
   "id": "ed9a7b15-94e0-48e1-9947-bae34daabcee",
   "metadata": {},
   "outputs": [
    {
     "name": "stdin",
     "output_type": "stream",
     "text": [
      "Combien de sec en plus ? 2154\n"
     ]
    },
    {
     "name": "stdout",
     "output_type": "stream",
     "text": [
      "0 d  17 : 14 : 19\n"
     ]
    }
   ],
   "source": [
    "import math\n",
    "heures = 16\n",
    "min = 38\n",
    "sec = 25\n",
    "t = int(input(\"Combien de sec en plus ?\"))\n",
    "sec = sec + t\n",
    "if sec >= 60:\n",
    "    min = min + (sec/60)\n",
    "    sec = sec%60\n",
    "    if min >= 60:\n",
    "        heures = heures + (min/60)\n",
    "        min = min%60\n",
    "        if heures >= 24:\n",
    "            jour = heures/24\n",
    "            heures = heures%24\n",
    "print(math.floor(jour), \"d \", math.floor(heures), \":\", math.floor(min), \":\", math.floor(sec))"
   ]
  },
  {
   "cell_type": "code",
   "execution_count": null,
   "id": "8840cddb-1fe9-477c-a374-58e2997bef9c",
   "metadata": {},
   "outputs": [],
   "source": []
  },
  {
   "cell_type": "markdown",
   "id": "b85d4f8b-8b2a-49d9-a669-2eafe16a303e",
   "metadata": {},
   "source": [
    "9) créer la fonction x**y"
   ]
  },
  {
   "cell_type": "code",
   "execution_count": 133,
   "id": "4885b692-784a-4c83-a4fd-44167bf52267",
   "metadata": {},
   "outputs": [
    {
     "name": "stdin",
     "output_type": "stream",
     "text": [
      "Entrez la base x 2\n",
      "Entrez l'exposant y 3\n"
     ]
    },
    {
     "name": "stdout",
     "output_type": "stream",
     "text": [
      "8\n"
     ]
    }
   ],
   "source": [
    "signe = False\n",
    "x = int(input(\"Entrez la base x\"))\n",
    "y = int(input(\"Entrez l'exposant y\"))\n",
    "if y < 0:\n",
    "    y = -y\n",
    "    signe = True\n",
    "i = 1\n",
    "resultat = 1\n",
    "while i <= y:\n",
    "    resultat = resultat * x\n",
    "    i = i + 1\n",
    "if signe:\n",
    "    resultat = 1/resultat\n",
    "print(resultat)"
   ]
  },
  {
   "cell_type": "code",
   "execution_count": null,
   "id": "4112dce1-8e02-44f4-ab74-3c1f11bec6a8",
   "metadata": {},
   "outputs": [],
   "source": []
  },
  {
   "cell_type": "markdown",
   "id": "3e7a7e0c-f703-4b23-adb0-949694de5fca",
   "metadata": {},
   "source": [
    "10) arrêter une boucle while avec un input"
   ]
  },
  {
   "cell_type": "code",
   "execution_count": 134,
   "id": "174ccb79-099e-4a9b-8994-b33776370b53",
   "metadata": {},
   "outputs": [
    {
     "name": "stdout",
     "output_type": "stream",
     "text": [
      "On continue ...\n"
     ]
    },
    {
     "name": "stdin",
     "output_type": "stream",
     "text": [
      "Voulez vous continuer ? o/n o\n"
     ]
    },
    {
     "name": "stdout",
     "output_type": "stream",
     "text": [
      "On continue ...\n"
     ]
    },
    {
     "name": "stdin",
     "output_type": "stream",
     "text": [
      "Voulez vous continuer ? o/n o\n"
     ]
    },
    {
     "name": "stdout",
     "output_type": "stream",
     "text": [
      "On continue ...\n"
     ]
    },
    {
     "name": "stdin",
     "output_type": "stream",
     "text": [
      "Voulez vous continuer ? o/n o\n"
     ]
    },
    {
     "name": "stdout",
     "output_type": "stream",
     "text": [
      "On continue ...\n"
     ]
    },
    {
     "name": "stdin",
     "output_type": "stream",
     "text": [
      "Voulez vous continuer ? o/n n\n"
     ]
    }
   ],
   "source": [
    "continuer = \"o\"\n",
    "while continuer == \"o\":\n",
    "    print(\"On continue ...\")\n",
    "    continuer = input(\"Voulez vous continuer ? o/n\")"
   ]
  },
  {
   "cell_type": "code",
   "execution_count": 188,
   "id": "0cea7efe-0a91-446b-8ffb-4a132ad595b0",
   "metadata": {},
   "outputs": [
    {
     "name": "stdout",
     "output_type": "stream",
     "text": [
      "On continue !\n"
     ]
    },
    {
     "name": "stdin",
     "output_type": "stream",
     "text": [
      "Voulez-vous continuer ? o/n  m\n"
     ]
    }
   ],
   "source": [
    "# autre façon de sortir de la boucle avec un input\n",
    "continuer = \"o\"\n",
    "while continuer == \"o\":\n",
    "    print(\"On continue !\")\n",
    "    resultat = input(\"Voulez-vous continuer ? o/n \")\n",
    "    if resultat != \"o\":\n",
    "        break"
   ]
  },
  {
   "cell_type": "markdown",
   "id": "2825fa56-901f-450b-afc2-ba1aa74b08be",
   "metadata": {},
   "source": [
    "11) boucle infinie avec une sauvegarde toute les 10 min"
   ]
  },
  {
   "cell_type": "code",
   "execution_count": 135,
   "id": "36d71dac-e054-43e9-9b24-c0c56848766e",
   "metadata": {},
   "outputs": [],
   "source": [
    "#import time\n",
    "#while True:\n",
    "    #print(\"Sauvegarde en cours ...\")\n",
    "    #time.sleep(10)"
   ]
  },
  {
   "cell_type": "code",
   "execution_count": null,
   "id": "7a784a77-1fdc-47db-b92e-3af154741774",
   "metadata": {},
   "outputs": [],
   "source": []
  },
  {
   "cell_type": "markdown",
   "id": "ec08f84f-7622-4f61-946d-666be3c50920",
   "metadata": {},
   "source": [
    "12) vérifier en la parcourant si une liste contient autre chose que des nombres, on pourrait faire la même chose avec des string"
   ]
  },
  {
   "cell_type": "code",
   "execution_count": 136,
   "id": "41dcb11f-484a-4047-b556-cd6973913e57",
   "metadata": {},
   "outputs": [
    {
     "name": "stdout",
     "output_type": "stream",
     "text": [
      "Paul\n",
      "Geoffrey\n"
     ]
    }
   ],
   "source": [
    "liste = [\"1\", \"5\", \"78\", \"124\", \"6\", \"Paul\", \"4\", \"Geoffrey\"]\n",
    "for element in liste:\n",
    "    if element.isdigit():\n",
    "        continue\n",
    "    print(element)"
   ]
  },
  {
   "cell_type": "code",
   "execution_count": null,
   "id": "8466adab-c19b-4251-8028-648ec7655b84",
   "metadata": {},
   "outputs": [],
   "source": []
  },
  {
   "cell_type": "code",
   "execution_count": null,
   "id": "1ecb117b-7549-476d-84e3-e9fe4fefc63f",
   "metadata": {},
   "outputs": [],
   "source": []
  },
  {
   "cell_type": "markdown",
   "id": "a4b0c16a-a28f-4970-8ce7-441a91287e8d",
   "metadata": {},
   "source": [
    "13) chercher un élément dans une boucle for else"
   ]
  },
  {
   "cell_type": "code",
   "execution_count": 137,
   "id": "d1cc718e-c414-4762-97f8-1a2a4d838d1e",
   "metadata": {},
   "outputs": [
    {
     "name": "stdout",
     "output_type": "stream",
     "text": [
      "Prénom trouvé\n"
     ]
    }
   ],
   "source": [
    "liste = [\"Geof\", \"Paul\", \"Benoit\", \"Jack\", \"Billy\", \"Boby\", \"Mike\"]\n",
    "for prenom in liste:\n",
    "    if prenom == \"Benoit\":\n",
    "        print(\"Prénom trouvé\")\n",
    "        break\n",
    "else:\n",
    "    print(\"Prénom pas trouvé\")"
   ]
  },
  {
   "cell_type": "code",
   "execution_count": null,
   "id": "48bd46c7-25cc-49c0-beaa-c8e646a7ad62",
   "metadata": {},
   "outputs": [],
   "source": []
  },
  {
   "cell_type": "markdown",
   "id": "ce5fd663-543b-4412-a932-f6b18640ceb4",
   "metadata": {},
   "source": [
    "14) les compréhension de liste"
   ]
  },
  {
   "cell_type": "code",
   "execution_count": 146,
   "id": "679d54d8-9787-4bcf-8dfd-99725f467618",
   "metadata": {},
   "outputs": [
    {
     "name": "stdout",
     "output_type": "stream",
     "text": [
      "[1, 2, 3, 4, 5]\n"
     ]
    }
   ],
   "source": [
    "liste = [-5, -4, -3, -2, -1, 0, 1, 2, 3, 4, 5]\n",
    "positifs = []\n",
    "for i in liste:\n",
    "    if i>0:\n",
    "        positifs.append(i)\n",
    "print(positifs)"
   ]
  },
  {
   "cell_type": "code",
   "execution_count": 147,
   "id": "d83ec042-2dd2-4354-897f-1197dbda722d",
   "metadata": {},
   "outputs": [],
   "source": [
    "#Il y a un moyen bcp plus simple de faire, mieux en tout cas"
   ]
  },
  {
   "cell_type": "code",
   "execution_count": 148,
   "id": "bd0ed612-08b5-4c22-a9e3-d372facc10d7",
   "metadata": {},
   "outputs": [
    {
     "name": "stdout",
     "output_type": "stream",
     "text": [
      "[1, 2, 3, 4, 5]\n"
     ]
    }
   ],
   "source": [
    "listeBis = [-5, -4, -3, -2, -1, 0, 1, 2, 3, 4, 5]\n",
    "positifBis = [i for i in listeBis if i>0]\n",
    "print(positifBis)"
   ]
  },
  {
   "cell_type": "code",
   "execution_count": 149,
   "id": "e79eb539-9915-4e28-a49a-2f432686a6cc",
   "metadata": {},
   "outputs": [],
   "source": [
    "# Autre cas pour avoir des nombres pairs"
   ]
  },
  {
   "cell_type": "code",
   "execution_count": 150,
   "id": "061809cb-49fb-4f39-ba52-026f8854eb19",
   "metadata": {},
   "outputs": [
    {
     "name": "stdout",
     "output_type": "stream",
     "text": [
      "[2, 4, 6, 8, 10]\n"
     ]
    }
   ],
   "source": [
    "listeBis = [-5, -4, -3, -2, -1, 0, 1, 2, 3, 4, 5]\n",
    "positifBis = [i*2 for i in listeBis if i>0]\n",
    "print(positifBis)"
   ]
  },
  {
   "cell_type": "code",
   "execution_count": null,
   "id": "8f4d48c6-58d3-469c-a66b-1d199ace1e71",
   "metadata": {},
   "outputs": [],
   "source": []
  },
  {
   "cell_type": "markdown",
   "id": "b2524855-2796-4be6-ba7a-8abea1c1512d",
   "metadata": {},
   "source": [
    "15) exemple des fonctions any([]) et all([])"
   ]
  },
  {
   "cell_type": "code",
   "execution_count": 153,
   "id": "b7d8c562-8b8b-4f21-989f-5a3946fbcbb8",
   "metadata": {},
   "outputs": [
    {
     "data": {
      "text/plain": [
       "True"
      ]
     },
     "execution_count": 153,
     "metadata": {},
     "output_type": "execute_result"
    }
   ],
   "source": [
    "# exemple avec all([])\n",
    "files = [\"a.jpg\", \"b.jpg\", \"c.jpg\"]\n",
    "all([f.endswith(\".jpg\") for f in files])"
   ]
  },
  {
   "cell_type": "code",
   "execution_count": 154,
   "id": "241af5a1-a0ea-4d35-a63f-83c49f110f20",
   "metadata": {},
   "outputs": [
    {
     "data": {
      "text/plain": [
       "False"
      ]
     },
     "execution_count": 154,
     "metadata": {},
     "output_type": "execute_result"
    }
   ],
   "source": [
    "cotes = [10, 12, 18, 13, 16, 14, 15, 9, 3, 8]\n",
    "any([x>18 for i in cotes])"
   ]
  },
  {
   "cell_type": "code",
   "execution_count": null,
   "id": "b1e51ca1-9f33-4e13-ab64-699a07c229a2",
   "metadata": {},
   "outputs": [],
   "source": []
  },
  {
   "cell_type": "markdown",
   "id": "ea02b777-8e60-49f3-93ad-0720f9bae6e5",
   "metadata": {},
   "source": [
    "16) exercices boucles formation udemy"
   ]
  },
  {
   "cell_type": "code",
   "execution_count": 157,
   "id": "586b44db-c065-4bce-8d79-bed283dbcb1f",
   "metadata": {},
   "outputs": [
    {
     "name": "stdout",
     "output_type": "stream",
     "text": [
      "utilisateur : 1\n",
      "utilisateur : 2\n",
      "utilisateur : 3\n",
      "utilisateur : 4\n",
      "utilisateur : 5\n",
      "utilisateur : 6\n",
      "utilisateur : 7\n",
      "utilisateur : 8\n",
      "utilisateur : 9\n",
      "utilisateur : 10\n"
     ]
    }
   ],
   "source": [
    "# juste afficher 10 utilisateurs mais de 1 à 10 et pas 0 à 10\n",
    "for i in range(1, 11):\n",
    "    print(\"utilisateur :\", i)"
   ]
  },
  {
   "cell_type": "code",
   "execution_count": 179,
   "id": "41a8797c-5b43-47d0-8fb4-232324ff6d9e",
   "metadata": {},
   "outputs": [
    {
     "name": "stdout",
     "output_type": "stream",
     "text": [
      "['n', 'o', 'h', 't', 'y', 'p']\n"
     ]
    }
   ],
   "source": [
    "# afficher python en inversé\n",
    "str = \"python\"\n",
    "tab =[]\n",
    "i = len(str)\n",
    "while i > 0:\n",
    "    #tab.append(str[i-1])\n",
    "    tab += str[i-1]\n",
    "    i = i-1\n",
    "print(tab)   "
   ]
  },
  {
   "cell_type": "code",
   "execution_count": 180,
   "id": "479f40e8-e06d-465e-afee-a63f257dadd0",
   "metadata": {},
   "outputs": [
    {
     "name": "stdout",
     "output_type": "stream",
     "text": [
      "nohtyp\n"
     ]
    }
   ],
   "source": [
    "# afficher python en inversé autre façon de faire\n",
    "str = \"python\"\n",
    "lstr = len(str)\n",
    "sliceStr = str[lstr::-1]\n",
    "print(sliceStr)"
   ]
  },
  {
   "cell_type": "code",
   "execution_count": 181,
   "id": "61a34c24-f9b2-4f96-a4a2-bec245e7a537",
   "metadata": {},
   "outputs": [
    {
     "name": "stdout",
     "output_type": "stream",
     "text": [
      "n\n",
      "o\n",
      "h\n",
      "t\n",
      "y\n",
      "P\n"
     ]
    }
   ],
   "source": [
    "mot = \"Python\"\n",
    "for lettre in reversed(mot):\n",
    "    print(lettre)"
   ]
  },
  {
   "cell_type": "code",
   "execution_count": 182,
   "id": "2a66b7d0-d082-409a-a509-969e6a7a47d3",
   "metadata": {},
   "outputs": [
    {
     "name": "stdout",
     "output_type": "stream",
     "text": [
      "n\n",
      "o\n",
      "h\n",
      "t\n",
      "y\n",
      "P\n"
     ]
    }
   ],
   "source": [
    "mot = \"Python\"\n",
    "for lettre in mot[::-1]:\n",
    "    print(lettre)"
   ]
  },
  {
   "cell_type": "code",
   "execution_count": 184,
   "id": "e083fd66-b1f5-4bd8-8436-3b31e6785db9",
   "metadata": {},
   "outputs": [
    {
     "name": "stdout",
     "output_type": "stream",
     "text": [
      "0\n",
      "1\n",
      "2\n",
      "3\n",
      "4\n",
      "5\n"
     ]
    }
   ],
   "source": [
    "# Pour retourner les index de chaque lettre à travers la boucle\n",
    "mot = \"Python\"\n",
    "for i in range(len(mot)):\n",
    "    print(i)"
   ]
  },
  {
   "cell_type": "code",
   "execution_count": 186,
   "id": "f6cce5b1-584f-416c-8d15-3a32c2402217",
   "metadata": {},
   "outputs": [
    {
     "name": "stdout",
     "output_type": "stream",
     "text": [
      "0  x  7  =  0\n",
      "1  x  7  =  7\n",
      "2  x  7  =  14\n",
      "3  x  7  =  21\n",
      "4  x  7  =  28\n",
      "5  x  7  =  35\n",
      "6  x  7  =  42\n",
      "7  x  7  =  49\n",
      "8  x  7  =  56\n",
      "9  x  7  =  63\n",
      "10  x  7  =  70\n"
     ]
    }
   ],
   "source": [
    "# Afficher la table de multiplication d'un nombre\n",
    "a = 7\n",
    "for i in range(11):\n",
    "    resultat = i*7\n",
    "    print(i, \" x \", a, \" = \", resultat)"
   ]
  },
  {
   "cell_type": "code",
   "execution_count": 187,
   "id": "237dd27a-dcd7-4a53-82c2-7cf3a8341de5",
   "metadata": {},
   "outputs": [
    {
     "name": "stdout",
     "output_type": "stream",
     "text": [
      "0 x 7 = 0\n",
      "1 x 7 = 7\n",
      "2 x 7 = 14\n",
      "3 x 7 = 21\n",
      "4 x 7 = 28\n",
      "5 x 7 = 35\n",
      "6 x 7 = 42\n",
      "7 x 7 = 49\n",
      "8 x 7 = 56\n",
      "9 x 7 = 63\n",
      "10 x 7 = 70\n"
     ]
    }
   ],
   "source": [
    "nombre = 7\n",
    "for i in range(11):\n",
    "    print(f\"{i} x {nombre} = {i*nombre}\")"
   ]
  },
  {
   "cell_type": "code",
   "execution_count": null,
   "id": "6b77a47c-7d05-40a7-8788-ff28be74ac8b",
   "metadata": {},
   "outputs": [],
   "source": []
  }
 ],
 "metadata": {
  "kernelspec": {
   "display_name": "Python 3 (ipykernel)",
   "language": "python",
   "name": "python3"
  },
  "language_info": {
   "codemirror_mode": {
    "name": "ipython",
    "version": 3
   },
   "file_extension": ".py",
   "mimetype": "text/x-python",
   "name": "python",
   "nbconvert_exporter": "python",
   "pygments_lexer": "ipython3",
   "version": "3.9.7"
  }
 },
 "nbformat": 4,
 "nbformat_minor": 5
}
