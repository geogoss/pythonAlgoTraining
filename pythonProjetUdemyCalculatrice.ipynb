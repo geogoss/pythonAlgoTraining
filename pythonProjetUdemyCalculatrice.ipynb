{
 "cells": [
  {
   "cell_type": "markdown",
   "id": "58148b34-ac84-4be1-b62f-13b1779f550d",
   "metadata": {},
   "source": [
    "1) Projet calculatrice avec gestion des erreurs. /n\n",
    "Dans ce projet, vous devez créer une calculatrice en ligne de commande qui demande à l'utilisateur de saisir deux nombres et qui affiche ensuite le résultat de l'addition de ces deux nombres. Vous devez également gérer le cas de figure dans lequel l'utilisateur ne rentre pas de données valides."
   ]
  },
  {
   "cell_type": "code",
   "execution_count": 6,
   "id": "2507440a-5b17-4cd0-a5c9-ba8549311847",
   "metadata": {},
   "outputs": [
    {
     "name": "stdin",
     "output_type": "stream",
     "text": [
      "Donnez le premier nombre 45\n",
      "Donnez le deuxième nombre 65\n"
     ]
    },
    {
     "name": "stdout",
     "output_type": "stream",
     "text": [
      "45 + 65 = 110\n"
     ]
    }
   ],
   "source": [
    "a = b = \"\"\n",
    "\n",
    "while not (a.isdigit() and b.isdigit()):\n",
    "    a = input(\"Donnez le premier nombre\")\n",
    "    b = input(\"Donnez le deuxième nombre\")\n",
    "    \n",
    "    if not (a.isdigit() and b.isdigit()):\n",
    "        print(\"Veuillez entrer deux nombres valides\")\n",
    "        \n",
    "print(f\"{a} + {b} = {int(a) + int(b)}\")"
   ]
  },
  {
   "cell_type": "markdown",
   "id": "1626cda6-2e47-4c79-9d0c-b695f5b4b6ab",
   "metadata": {},
   "source": []
  },
  {
   "cell_type": "code",
   "execution_count": null,
   "id": "7d4640de-4fc3-48d8-b56c-372a045708fc",
   "metadata": {},
   "outputs": [],
   "source": []
  },
  {
   "cell_type": "code",
   "execution_count": null,
   "id": "3adddcdd-a581-42fa-b66e-9af441132204",
   "metadata": {},
   "outputs": [],
   "source": []
  },
  {
   "cell_type": "code",
   "execution_count": null,
   "id": "e834990f-c5df-47d1-b360-7eb03168c4e2",
   "metadata": {},
   "outputs": [],
   "source": []
  },
  {
   "cell_type": "code",
   "execution_count": null,
   "id": "ecb4e34b-56d6-4171-af47-17d9c725b3ef",
   "metadata": {},
   "outputs": [],
   "source": []
  },
  {
   "cell_type": "code",
   "execution_count": null,
   "id": "3fbdd51d-82cf-4daf-97d3-9ad0ba872a50",
   "metadata": {},
   "outputs": [],
   "source": []
  },
  {
   "cell_type": "code",
   "execution_count": null,
   "id": "772c6a58-fce9-4450-b7f0-9a25ee5ab956",
   "metadata": {},
   "outputs": [],
   "source": []
  }
 ],
 "metadata": {
  "kernelspec": {
   "display_name": "Python 3 (ipykernel)",
   "language": "python",
   "name": "python3"
  },
  "language_info": {
   "codemirror_mode": {
    "name": "ipython",
    "version": 3
   },
   "file_extension": ".py",
   "mimetype": "text/x-python",
   "name": "python",
   "nbconvert_exporter": "python",
   "pygments_lexer": "ipython3",
   "version": "3.9.7"
  }
 },
 "nbformat": 4,
 "nbformat_minor": 5
}
