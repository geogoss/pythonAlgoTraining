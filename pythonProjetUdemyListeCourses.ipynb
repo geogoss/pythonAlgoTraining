{
 "cells": [
  {
   "cell_type": "markdown",
   "id": "f8d90492-a3bc-4b29-9672-4568e2413906",
   "metadata": {},
   "source": [
    " Dans ce projet, tu vas devoir créer un programme en ligne de commande qui permet de manipuler une liste de courses.\n",
    "👉 Déroulé du script\n",
    "Le programme doit permettre de réaliser 5 actions :\n",
    "- Ajouter un élément à la liste de courses\n",
    "- Retirer un élément de la liste de courses\n",
    "- Afficher les éléments de la liste de courses\n",
    "- Vider la liste de courses\n",
    "- Quitter le programme\n",
    "Tu dois donc demander à l'utilisateur de choisir parmi une de ces action en entrant un nombre de 1 à 5.\n",
    "Tu dois gérer le cas de figure où l'utilisateur ne rentre pas un nombre compris entre 1 et 5 ou s'il rentre par exemple des lettres ou un autre symbole invalide. Dans ce cas, tu dois afficher de nouveau le menu avec les options disponibles, jusqu'à ce que l'utilisateur choisisse une option valide.\n",
    "Dans ce projet, tu ne dois pas sauvegarder la liste dans un fichier ou une base de donnée.\n",
    "Le but ici est juste d'interagir avec l'utilisateur et de manipuler une liste en fonction de son choix.\n",
    "Bonne chance pour cet exercice ?\n",
    "Prends le temps de bien décrire toutes les étapes en français avant de te lancer dans le code !\n",
    "Quelques éléments pour t'aider :\n",
    "Pour boucler sur un itérable et récupérer en même temps l'indice de l'itération, tu peux utiliser la fonction enumerate :\n",
    ">>> for i, element in enumerate(\"Python\"):\n",
    ">>>     print(i, element)\n",
    "0 \"P\"\n",
    "1 \"y\"\n",
    "2 \"t\"\n",
    "3 \"h\"\n",
    "4 \"o\"\n",
    "5 \"n\"\n",
    "Pour sortir d'un script en ligne de commande, tu peux utiliser le module sys et la fonction exit :\n",
    "import sys\n",
    "sys.exit()\n",
    "Cela aura pour effet de mettre fin au script en cours d'exécution."
   ]
  },
  {
   "cell_type": "code",
   "execution_count": null,
   "id": "c02c5b77-fca4-485b-858a-15f4449ff27d",
   "metadata": {},
   "outputs": [],
   "source": []
  },
  {
   "cell_type": "code",
   "execution_count": null,
   "id": "2ae795e0-7079-4ba3-999d-8c9bc7fe1f89",
   "metadata": {},
   "outputs": [],
   "source": []
  },
  {
   "cell_type": "code",
   "execution_count": null,
   "id": "96960dfa-75bb-4908-bd26-026605806d7c",
   "metadata": {},
   "outputs": [],
   "source": []
  }
 ],
 "metadata": {
  "kernelspec": {
   "display_name": "Python 3 (ipykernel)",
   "language": "python",
   "name": "python3"
  },
  "language_info": {
   "codemirror_mode": {
    "name": "ipython",
    "version": 3
   },
   "file_extension": ".py",
   "mimetype": "text/x-python",
   "name": "python",
   "nbconvert_exporter": "python",
   "pygments_lexer": "ipython3",
   "version": "3.9.7"
  }
 },
 "nbformat": 4,
 "nbformat_minor": 5
}
